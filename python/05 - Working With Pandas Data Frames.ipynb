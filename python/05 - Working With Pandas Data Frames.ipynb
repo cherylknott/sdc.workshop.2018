{
 "cells": [
  {
   "cell_type": "markdown",
   "metadata": {},
   "source": [
    "# Working With Pandas Data Frames\n",
    "---"
   ]
  },
  {
   "cell_type": "markdown",
   "metadata": {},
   "source": [
    "* Import the pandas library as pd and read in the csv that we just wrote as a data frame using the `read_csv`."
   ]
  },
  {
   "cell_type": "code",
   "execution_count": 5,
   "metadata": {},
   "outputs": [],
   "source": [
    "import pandas as pd\n",
    "df = pd.read_csv(\"../data/processed_data/gapminder_final.csv\")"
   ]
  },
  {
   "cell_type": "markdown",
   "metadata": {},
   "source": [
    "* return the data frame from jupyter to view it (pretty)"
   ]
  },
  {
   "cell_type": "code",
   "execution_count": 6,
   "metadata": {},
   "outputs": [
    {
     "ename": "NameError",
     "evalue": "name 'head' is not defined",
     "output_type": "error",
     "traceback": [
      "\u001b[1;31m---------------------------------------------------------------------------\u001b[0m",
      "\u001b[1;31mNameError\u001b[0m                                 Traceback (most recent call last)",
      "\u001b[1;32m<ipython-input-6-84f1ebbec71b>\u001b[0m in \u001b[0;36m<module>\u001b[1;34m()\u001b[0m\n\u001b[1;32m----> 1\u001b[1;33m \u001b[0mdf\u001b[0m\u001b[1;33m(\u001b[0m\u001b[0mhead\u001b[0m\u001b[1;33m)\u001b[0m\u001b[1;33m\u001b[0m\u001b[0m\n\u001b[0m",
      "\u001b[1;31mNameError\u001b[0m: name 'head' is not defined"
     ]
    }
   ],
   "source": [
    "df(.head"
   ]
  },
  {
   "cell_type": "markdown",
   "metadata": {},
   "source": [
    "* What if we wanted to break up all the data into files for each continent?\n",
    "* What if we wanted to have only one row for each country?\n",
    "  * We would have to have columns for each year\n",
    "  \n",
    "** Don't worry about all of the code in the block below. By the end of this section it will make sense. **"
   ]
  },
  {
   "cell_type": "code",
   "execution_count": 8,
   "metadata": {},
   "outputs": [],
   "source": [
    "allcountries_df = pd.read_csv(\"../data/processed_data/gapminder_final.csv\")\n",
    "df_t = allcountries_df\n",
    "\n",
    "years = sorted(list(df_t['year'].unique()))\n",
    "# Convert years to strings\n",
    "\n",
    "for year in years:\n",
    "    col_name = \"gdpPercap_\" + str(year)\n",
    "    df_t[col_name] = 0\n",
    "\n",
    "for y in years:\n",
    "    df_t.loc[df_t.year == y, \"gdpPercap_\" + str(y)] = df_t[\"gdpPercap\"]\n",
    "\n",
    "df_t = df_t.groupby(df_t[\"country\"]).max()\n",
    "df_t[\"pop2007\"] = df_t[\"pop\"]\n",
    "df_t[\"lifeExp2007\"] = df_t[\"lifeExp\"]\n",
    "\n",
    "df_t.drop(\"country\", axis=1, inplace=True)\n",
    "df_t.drop(\"gdpPercap\", axis=1, inplace=True)\n",
    "df_t.drop(\"year\", axis=1, inplace=True)\n",
    "df_t.drop(\"lifeExp\", axis=1, inplace=True)\n",
    "\n",
    "continents = df_t[\"continent\"].unique()\n",
    "\n",
    "df_t.to_csv(\"../data/gapminder_All.csv\")\n",
    "\n",
    "for continent in continents:\n",
    "    new_df = df_t.loc[df_t[\"continent\"] == continent]\n",
    "    newfilename = \"gapminder_\" + continent + \".csv\"\n",
    "    new_df.to_csv(\"../data/\" + newfilename)\n",
    "        "
   ]
  },
  {
   "cell_type": "markdown",
   "metadata": {},
   "source": [
    "* Check out our data folder after we ran this script. We now have six additional csv files.\n",
    "    ~~~\n",
    "    * gapminder_All.csv\n",
    "    * gapminder_Oceana.csv\n",
    "    * gapminder_Europe.csv\n",
    "    * gapminder_Asia.csv\n",
    "    * gapminder_Americas.csv\n",
    "    * gapminder_Africa.csv\n",
    "    ~~~"
   ]
  },
  {
   "cell_type": "markdown",
   "metadata": {},
   "source": [
    "Lets read in the Africa csv to see how the structure has changed."
   ]
  },
  {
   "cell_type": "code",
   "execution_count": 12,
   "metadata": {},
   "outputs": [
    {
     "name": "stdout",
     "output_type": "stream",
     "text": [
      "                                  pop continent  gdpPercap_1952  \\\n",
      "country                                                           \n",
      "Algeria                    33333216.0    Africa     2449.008185   \n",
      "Angola                     12420476.0    Africa     3520.610273   \n",
      "Benin                       8078314.0    Africa     1062.752200   \n",
      "Botswana                    1639131.0    Africa      851.241141   \n",
      "Burkina Faso               14326203.0    Africa      543.255241   \n",
      "Burundi                     8390505.0    Africa      339.296459   \n",
      "Cameroon                   17696293.0    Africa     1172.667655   \n",
      "Central African Republic    4369038.0    Africa     1071.310713   \n",
      "Chad                       10238807.0    Africa     1178.665927   \n",
      "Comoros                      710960.0    Africa     1102.990936   \n",
      "Congo, Dem. Rep.           64606759.0    Africa      780.542326   \n",
      "Congo, Rep.                 3800610.0    Africa     2125.621418   \n",
      "Cote d'Ivoire              18013409.0    Africa     1388.594732   \n",
      "Djibouti                     496374.0    Africa     2669.529475   \n",
      "Egypt                      80264543.0    Africa     1418.822445   \n",
      "Equatorial Guinea            551201.0    Africa      375.643123   \n",
      "Eritrea                     4906585.0    Africa      328.940557   \n",
      "Ethiopia                   76511887.0    Africa      362.146280   \n",
      "Gabon                       1454867.0    Africa     4293.476475   \n",
      "Gambia                      1688359.0    Africa      485.230659   \n",
      "Ghana                      22873338.0    Africa      911.298937   \n",
      "Guinea                      9947814.0    Africa      510.196492   \n",
      "Guinea-Bissau               1472041.0    Africa      299.850319   \n",
      "Kenya                      35610177.0    Africa      853.540919   \n",
      "Lesotho                     2046772.0    Africa      298.846212   \n",
      "Liberia                     3193942.0    Africa      575.572996   \n",
      "Libya                       6036914.0    Africa     2387.548060   \n",
      "Madagascar                 19167654.0    Africa     1443.011715   \n",
      "Malawi                     13327079.0    Africa      369.165080   \n",
      "Mali                       12031795.0    Africa      452.336981   \n",
      "Mauritania                  3270065.0    Africa      743.115910   \n",
      "Mauritius                   1250882.0    Africa     1967.955707   \n",
      "Morocco                    33757175.0    Africa     1688.203570   \n",
      "Mozambique                 19951656.0    Africa      468.526038   \n",
      "Namibia                     2055080.0    Africa     2423.780443   \n",
      "Niger                      12894865.0    Africa      761.879376   \n",
      "Nigeria                   135031164.0    Africa     1077.281856   \n",
      "Reunion                      798094.0    Africa     2718.885295   \n",
      "Rwanda                      8860588.0    Africa      493.323875   \n",
      "Sao Tome and Principe        199579.0    Africa      879.583586   \n",
      "Senegal                    12267493.0    Africa     1450.356983   \n",
      "Sierra Leone                6144562.0    Africa      879.787736   \n",
      "Somalia                     9118773.0    Africa     1135.749842   \n",
      "South Africa               44433622.0    Africa     4725.295531   \n",
      "Sudan                      42292929.0    Africa     1615.991129   \n",
      "Swaziland                   1133066.0    Africa     1148.376626   \n",
      "Tanzania                   38139640.0    Africa      716.650072   \n",
      "Togo                        5701579.0    Africa      859.808657   \n",
      "Tunisia                    10276158.0    Africa     1468.475631   \n",
      "Uganda                     29170398.0    Africa      734.753484   \n",
      "Zambia                     11746035.0    Africa     1147.388831   \n",
      "Zimbabwe                   12311143.0    Africa      406.884115   \n",
      "\n",
      "                          gdpPercap_1957  gdpPercap_1962  gdpPercap_1967  \\\n",
      "country                                                                    \n",
      "Algeria                      3013.976023     2550.816880     3246.991771   \n",
      "Angola                       3827.940465     4269.276742     5522.776375   \n",
      "Benin                         959.601080      949.499064     1035.831411   \n",
      "Botswana                      918.232535      983.653976     1214.709294   \n",
      "Burkina Faso                  617.183465      722.512021      794.826560   \n",
      "Burundi                       379.564628      355.203227      412.977514   \n",
      "Cameroon                     1313.048099     1399.607441     1508.453148   \n",
      "Central African Republic     1190.844328     1193.068753     1136.056615   \n",
      "Chad                         1308.495577     1389.817618     1196.810565   \n",
      "Comoros                      1211.148548     1406.648278     1876.029643   \n",
      "Congo, Dem. Rep.              905.860230      896.314634      861.593242   \n",
      "Congo, Rep.                  2315.056572     2464.783157     2677.939642   \n",
      "Cote d'Ivoire                1500.895925     1728.869428     2052.050473   \n",
      "Djibouti                     2864.969076     3020.989263     3020.050513   \n",
      "Egypt                        1458.915272     1693.335853     1814.880728   \n",
      "Equatorial Guinea             426.096408      582.841971      915.596003   \n",
      "Eritrea                       344.161886      380.995843      468.794970   \n",
      "Ethiopia                      378.904163      419.456416      516.118644   \n",
      "Gabon                        4976.198099     6631.459222     8358.761987   \n",
      "Gambia                        520.926711      599.650276      734.782912   \n",
      "Ghana                        1043.561537     1190.041118     1125.697160   \n",
      "Guinea                        576.267025      686.373674      708.759541   \n",
      "Guinea-Bissau                 431.790457      522.034373      715.580640   \n",
      "Kenya                         944.438315      896.966373     1056.736457   \n",
      "Lesotho                       335.997115      411.800627      498.639026   \n",
      "Liberia                       620.969990      634.195163      713.603648   \n",
      "Libya                        3448.284395     6757.030816    18772.751690   \n",
      "Madagascar                   1589.202750     1643.387110     1634.047282   \n",
      "Malawi                        416.369806      427.901086      495.514781   \n",
      "Mali                          490.382187      496.174343      545.009887   \n",
      "Mauritania                    846.120261     1055.896036     1421.145193   \n",
      "Mauritius                    2034.037981     2529.067487     2475.387562   \n",
      "Morocco                      1642.002314     1566.353493     1711.044770   \n",
      "Mozambique                    495.586833      556.686354      566.669154   \n",
      "Namibia                      2621.448058     3173.215595     3793.694753   \n",
      "Niger                         835.523403      997.766113     1054.384891   \n",
      "Nigeria                      1100.592563     1150.927478     1014.514104   \n",
      "Reunion                      2769.451844     3173.723340     4021.175739   \n",
      "Rwanda                        540.289398      597.473073      510.963714   \n",
      "Sao Tome and Principe         860.736903     1071.551119     1384.840593   \n",
      "Senegal                      1567.653006     1654.988723     1612.404632   \n",
      "Sierra Leone                 1004.484437     1116.639877     1206.043465   \n",
      "Somalia                      1258.147413     1369.488336     1284.733180   \n",
      "South Africa                 5487.104219     5768.729717     7114.477971   \n",
      "Sudan                        1770.337074     1959.593767     1687.997641   \n",
      "Swaziland                    1244.708364     1856.182125     2613.101665   \n",
      "Tanzania                      698.535607      722.003807      848.218657   \n",
      "Togo                          925.908320     1067.534810     1477.596760   \n",
      "Tunisia                      1395.232468     1660.303210     1932.360167   \n",
      "Uganda                        774.371069      767.271740      908.918522   \n",
      "Zambia                       1311.956766     1452.725766     1777.077318   \n",
      "Zimbabwe                      518.764268      527.272182      569.795071   \n",
      "\n",
      "                          gdpPercap_1972  gdpPercap_1977  gdpPercap_1982  \\\n",
      "country                                                                    \n",
      "Algeria                      4182.663766     4910.416756     5745.160213   \n",
      "Angola                       5473.288005     3008.647355     2756.953672   \n",
      "Benin                        1085.796879     1029.161251     1277.897616   \n",
      "Botswana                     2263.611114     3214.857818     4551.142150   \n",
      "Burkina Faso                  854.735976      743.387037      807.198586   \n",
      "Burundi                       464.099504      556.103265      559.603231   \n",
      "Cameroon                     1684.146528     1783.432873     2367.983282   \n",
      "Central African Republic     1070.013275     1109.374338      956.752991   \n",
      "Chad                         1104.103987     1133.984950      797.908101   \n",
      "Comoros                      1937.577675     1172.603047     1267.100083   \n",
      "Congo, Dem. Rep.              904.896069      795.757282      673.747818   \n",
      "Congo, Rep.                  3213.152683     3259.178978     4879.507522   \n",
      "Cote d'Ivoire                2378.201111     2517.736547     2602.710169   \n",
      "Djibouti                     3694.212352     3081.761022     2879.468067   \n",
      "Egypt                        2024.008147     2785.493582     3503.729636   \n",
      "Equatorial Guinea             672.412257      958.566812      927.825343   \n",
      "Eritrea                       514.324208      505.753808      524.875849   \n",
      "Ethiopia                      566.243944      556.808383      577.860747   \n",
      "Gabon                       11401.948410    21745.573280    15113.361940   \n",
      "Gambia                        756.086836      884.755251      835.809611   \n",
      "Ghana                        1178.223708      993.223957      876.032569   \n",
      "Guinea                        741.666231      874.685864      857.250358   \n",
      "Guinea-Bissau                 820.224588      764.725963      838.123967   \n",
      "Kenya                        1222.359968     1267.613204     1348.225791   \n",
      "Lesotho                       496.581592      745.369541      797.263107   \n",
      "Liberia                       803.005454      640.322438      572.199569   \n",
      "Libya                       21011.497210    21951.211760    17364.275380   \n",
      "Madagascar                   1748.562982     1544.228586     1302.878658   \n",
      "Malawi                        584.621971      663.223677      632.803921   \n",
      "Mali                          581.368876      686.395269      618.014064   \n",
      "Mauritania                   1586.851781     1497.492223     1481.150189   \n",
      "Mauritius                    2575.484158     3710.982963     3688.037739   \n",
      "Morocco                      1930.194975     2370.619976     2702.620356   \n",
      "Mozambique                    724.917804      502.319733      462.211415   \n",
      "Namibia                      3746.080948     3876.485958     4191.100511   \n",
      "Niger                         954.209236      808.897073      909.722135   \n",
      "Nigeria                      1698.388838     1981.951806     1576.973750   \n",
      "Reunion                      5047.658563     4319.804067     5267.219353   \n",
      "Rwanda                        590.580664      670.080601      881.570647   \n",
      "Sao Tome and Principe        1532.985254     1737.561657     1890.218117   \n",
      "Senegal                      1597.712056     1561.769116     1518.479984   \n",
      "Sierra Leone                 1353.759762     1348.285159     1465.010784   \n",
      "Somalia                      1254.576127     1450.992513     1176.807031   \n",
      "South Africa                 7765.962636     8028.651439     8568.266228   \n",
      "Sudan                        1659.652775     2202.988423     1895.544073   \n",
      "Swaziland                    3364.836625     3781.410618     3895.384018   \n",
      "Tanzania                      915.985059      962.492293      874.242607   \n",
      "Togo                         1649.660188     1532.776998     1344.577953   \n",
      "Tunisia                      2753.285994     3120.876811     3560.233174   \n",
      "Uganda                        950.735869      843.733137      682.266227   \n",
      "Zambia                       1773.498265     1588.688299     1408.678565   \n",
      "Zimbabwe                      799.362176      685.587682      788.855041   \n",
      "\n",
      "                          gdpPercap_1987  gdpPercap_1992  gdpPercap_1997  \\\n",
      "country                                                                    \n",
      "Algeria                      5681.358539     5023.216647     4797.295051   \n",
      "Angola                       2430.208311     2627.845685     2277.140884   \n",
      "Benin                        1225.856010     1191.207681     1232.975292   \n",
      "Botswana                     6205.883850     7954.111645     8647.142313   \n",
      "Burkina Faso                  912.063142      931.752773      946.294962   \n",
      "Burundi                       621.818819      631.699878      463.115148   \n",
      "Cameroon                     2602.664206     1793.163278     1694.337469   \n",
      "Central African Republic      844.876350      747.905525      740.506332   \n",
      "Chad                          952.386129     1058.064300     1004.961353   \n",
      "Comoros                      1315.980812     1246.907370     1173.618235   \n",
      "Congo, Dem. Rep.              672.774812      457.719181      312.188423   \n",
      "Congo, Rep.                  4201.194937     4016.239529     3484.164376   \n",
      "Cote d'Ivoire                2156.956069     1648.073791     1786.265407   \n",
      "Djibouti                     2880.102568     2377.156192     1895.016984   \n",
      "Egypt                        3885.460710     3794.755195     4173.181797   \n",
      "Equatorial Guinea             966.896815     1132.055034     2814.480755   \n",
      "Eritrea                       521.134133      582.858510      913.470790   \n",
      "Ethiopia                      573.741314      421.353465      515.889401   \n",
      "Gabon                       11864.408440    13522.157520    14722.841880   \n",
      "Gambia                        611.658861      665.624413      653.730170   \n",
      "Ghana                         847.006113      925.060154     1005.245812   \n",
      "Guinea                        805.572472      794.348438      869.449767   \n",
      "Guinea-Bissau                 736.415392      745.539871      796.664468   \n",
      "Kenya                        1361.936856     1341.921721     1360.485021   \n",
      "Lesotho                       773.993214      977.486272     1186.147994   \n",
      "Liberia                       506.113857      636.622919      609.173951   \n",
      "Libya                       11770.589800     9640.138501     9467.446056   \n",
      "Madagascar                   1155.441948     1040.676190      986.295896   \n",
      "Malawi                        635.517363      563.200014      692.275810   \n",
      "Mali                          684.171558      739.014375      790.257985   \n",
      "Mauritania                   1421.603576     1361.369784     1483.136136   \n",
      "Mauritius                    4783.586903     6058.253846     7425.705295   \n",
      "Morocco                      2755.046991     2948.047252     2982.101858   \n",
      "Mozambique                    389.876185      410.896824      472.346077   \n",
      "Namibia                      3693.731337     3804.537999     3899.524260   \n",
      "Niger                         668.300023      581.182725      580.305209   \n",
      "Nigeria                      1385.029563     1619.848217     1624.941275   \n",
      "Reunion                      5303.377488     6101.255823     6071.941411   \n",
      "Rwanda                        847.991217      737.068595      589.944505   \n",
      "Sao Tome and Principe        1516.525457     1428.777814     1339.076036   \n",
      "Senegal                      1441.720720     1367.899369     1392.368347   \n",
      "Sierra Leone                 1294.447788     1068.696278      574.648158   \n",
      "Somalia                      1093.244963      926.960296      930.596428   \n",
      "South Africa                 7825.823398     7225.069258     7479.188244   \n",
      "Sudan                        1507.819159     1492.197043     1632.210764   \n",
      "Swaziland                    3984.839812     3553.022400     3876.768460   \n",
      "Tanzania                      831.822079      825.682454      789.186223   \n",
      "Togo                         1202.201361     1034.298904      982.286924   \n",
      "Tunisia                      3810.419296     4332.720164     4876.798614   \n",
      "Uganda                        617.724406      644.170797      816.559081   \n",
      "Zambia                       1213.315116     1210.884633     1071.353818   \n",
      "Zimbabwe                      706.157306      693.420786      792.449960   \n",
      "\n",
      "                          gdpPercap_2002  gdpPercap_2007      pop2007  \\\n",
      "country                                                                 \n",
      "Algeria                      5288.040382     6223.367465   33333216.0   \n",
      "Angola                       2773.287312     4797.231267   12420476.0   \n",
      "Benin                        1372.877931     1441.284873    8078314.0   \n",
      "Botswana                    11003.605080    12569.851770    1639131.0   \n",
      "Burkina Faso                 1037.645221     1217.032994   14326203.0   \n",
      "Burundi                       446.403513      430.070692    8390505.0   \n",
      "Cameroon                     1934.011449     2042.095240   17696293.0   \n",
      "Central African Republic      738.690607      706.016537    4369038.0   \n",
      "Chad                         1156.181860     1704.063724   10238807.0   \n",
      "Comoros                      1075.811558      986.147879     710960.0   \n",
      "Congo, Dem. Rep.              241.165877      277.551859   64606759.0   \n",
      "Congo, Rep.                  3484.061970     3632.557798    3800610.0   \n",
      "Cote d'Ivoire                1648.800823     1544.750112   18013409.0   \n",
      "Djibouti                     1908.260867     2082.481567     496374.0   \n",
      "Egypt                        4754.604414     5581.180998   80264543.0   \n",
      "Equatorial Guinea            7703.495900    12154.089750     551201.0   \n",
      "Eritrea                       765.350001      641.369524    4906585.0   \n",
      "Ethiopia                      530.053532      690.805576   76511887.0   \n",
      "Gabon                       12521.713920    13206.484520    1454867.0   \n",
      "Gambia                        660.585600      752.749726    1688359.0   \n",
      "Ghana                        1111.984578     1327.608910   22873338.0   \n",
      "Guinea                        945.583584      942.654211    9947814.0   \n",
      "Guinea-Bissau                 575.704718      579.231743    1472041.0   \n",
      "Kenya                        1287.514732     1463.249282   35610177.0   \n",
      "Lesotho                      1275.184575     1569.331442    2046772.0   \n",
      "Liberia                       531.482368      414.507341    3193942.0   \n",
      "Libya                        9534.677467    12057.499280    6036914.0   \n",
      "Madagascar                    894.637082     1044.770126   19167654.0   \n",
      "Malawi                        665.423119      759.349910   13327079.0   \n",
      "Mali                          951.409752     1042.581557   12031795.0   \n",
      "Mauritania                   1579.019543     1803.151496    3270065.0   \n",
      "Mauritius                    9021.815894    10956.991120    1250882.0   \n",
      "Morocco                      3258.495584     3820.175230   33757175.0   \n",
      "Mozambique                    633.617947      823.685621   19951656.0   \n",
      "Namibia                      4072.324751     4811.060429    2055080.0   \n",
      "Niger                         601.074501      619.676892   12894865.0   \n",
      "Nigeria                      1615.286395     2013.977305  135031164.0   \n",
      "Reunion                      6316.165200     7670.122558     798094.0   \n",
      "Rwanda                        785.653765      863.088464    8860588.0   \n",
      "Sao Tome and Principe        1353.092390     1598.435089     199579.0   \n",
      "Senegal                      1519.635262     1712.472136   12267493.0   \n",
      "Sierra Leone                  699.489713      862.540756    6144562.0   \n",
      "Somalia                       882.081822      926.141068    9118773.0   \n",
      "South Africa                 7710.946444     9269.657808   44433622.0   \n",
      "Sudan                        1993.398314     2602.394995   42292929.0   \n",
      "Swaziland                    4128.116943     4513.480643    1133066.0   \n",
      "Tanzania                      899.074211     1107.482182   38139640.0   \n",
      "Togo                          886.220577      882.969944    5701579.0   \n",
      "Tunisia                      5722.895655     7092.923025   10276158.0   \n",
      "Uganda                        927.721002     1056.380121   29170398.0   \n",
      "Zambia                       1071.613938     1271.211593   11746035.0   \n",
      "Zimbabwe                      672.038623      469.709298   12311143.0   \n",
      "\n",
      "                          lifeExp2007  \n",
      "country                                \n",
      "Algeria                        72.301  \n",
      "Angola                         42.731  \n",
      "Benin                          56.728  \n",
      "Botswana                       63.622  \n",
      "Burkina Faso                   52.295  \n",
      "Burundi                        49.580  \n",
      "Cameroon                       54.985  \n",
      "Central African Republic       50.485  \n",
      "Chad                           51.724  \n",
      "Comoros                        65.152  \n",
      "Congo, Dem. Rep.               47.804  \n",
      "Congo, Rep.                    57.470  \n",
      "Cote d'Ivoire                  54.655  \n",
      "Djibouti                       54.791  \n",
      "Egypt                          71.338  \n",
      "Equatorial Guinea              51.579  \n",
      "Eritrea                        58.040  \n",
      "Ethiopia                       52.947  \n",
      "Gabon                          61.366  \n",
      "Gambia                         59.448  \n",
      "Ghana                          60.022  \n",
      "Guinea                         56.007  \n",
      "Guinea-Bissau                  46.388  \n",
      "Kenya                          59.339  \n",
      "Lesotho                        59.685  \n",
      "Liberia                        46.027  \n",
      "Libya                          73.952  \n",
      "Madagascar                     59.443  \n",
      "Malawi                         49.420  \n",
      "Mali                           54.467  \n",
      "Mauritania                     64.164  \n",
      "Mauritius                      72.801  \n",
      "Morocco                        71.164  \n",
      "Mozambique                     46.344  \n",
      "Namibia                        61.999  \n",
      "Niger                          56.867  \n",
      "Nigeria                        47.472  \n",
      "Reunion                        76.442  \n",
      "Rwanda                         46.242  \n",
      "Sao Tome and Principe          65.528  \n",
      "Senegal                        63.062  \n",
      "Sierra Leone                   42.568  \n",
      "Somalia                        48.159  \n",
      "South Africa                   61.888  \n",
      "Sudan                          58.556  \n",
      "Swaziland                      58.474  \n",
      "Tanzania                       52.517  \n",
      "Togo                           58.420  \n",
      "Tunisia                        73.923  \n",
      "Uganda                         51.542  \n",
      "Zambia                         51.821  \n",
      "Zimbabwe                       62.351  \n"
     ]
    }
   ],
   "source": [
    "# Read in gapminder_Africa.csv as a data frame\n",
    "df_africa = pd.read_csv(\"../data/gapminder_Africa.csv\", index_col=\"country\")\n",
    "print(df_africa)"
   ]
  },
  {
   "cell_type": "markdown",
   "metadata": {},
   "source": [
    "We can see that now there is only one row for each country. Lets re-read the file using the index_col parameter"
   ]
  },
  {
   "cell_type": "code",
   "execution_count": 20,
   "metadata": {},
   "outputs": [
    {
     "data": {
      "text/plain": [
       "country\n",
       "Algeria                     2449.008185\n",
       "Angola                      3520.610273\n",
       "Benin                       1062.752200\n",
       "Botswana                     851.241141\n",
       "Burkina Faso                 543.255241\n",
       "Burundi                      339.296459\n",
       "Cameroon                    1172.667655\n",
       "Central African Republic    1071.310713\n",
       "Chad                        1178.665927\n",
       "Comoros                     1102.990936\n",
       "Congo, Dem. Rep.             780.542326\n",
       "Congo, Rep.                 2125.621418\n",
       "Cote d'Ivoire               1388.594732\n",
       "Djibouti                    2669.529475\n",
       "Egypt                       1418.822445\n",
       "Equatorial Guinea            375.643123\n",
       "Eritrea                      328.940557\n",
       "Ethiopia                     362.146280\n",
       "Gabon                       4293.476475\n",
       "Gambia                       485.230659\n",
       "Ghana                        911.298937\n",
       "Guinea                       510.196492\n",
       "Guinea-Bissau                299.850319\n",
       "Kenya                        853.540919\n",
       "Lesotho                      298.846212\n",
       "Liberia                      575.572996\n",
       "Libya                       2387.548060\n",
       "Madagascar                  1443.011715\n",
       "Malawi                       369.165080\n",
       "Mali                         452.336981\n",
       "Mauritania                   743.115910\n",
       "Mauritius                   1967.955707\n",
       "Morocco                     1688.203570\n",
       "Mozambique                   468.526038\n",
       "Namibia                     2423.780443\n",
       "Niger                        761.879376\n",
       "Nigeria                     1077.281856\n",
       "Reunion                     2718.885295\n",
       "Rwanda                       493.323875\n",
       "Sao Tome and Principe        879.583586\n",
       "Senegal                     1450.356983\n",
       "Sierra Leone                 879.787736\n",
       "Somalia                     1135.749842\n",
       "South Africa                4725.295531\n",
       "Sudan                       1615.991129\n",
       "Swaziland                   1148.376626\n",
       "Tanzania                     716.650072\n",
       "Togo                         859.808657\n",
       "Tunisia                     1468.475631\n",
       "Uganda                       734.753484\n",
       "Zambia                      1147.388831\n",
       "Zimbabwe                     406.884115\n",
       "Name: gdpPercap_1952, dtype: float64"
      ]
     },
     "execution_count": 20,
     "metadata": {},
     "output_type": "execute_result"
    }
   ],
   "source": [
    "# Re-read the file using index_cols\n",
    "df_africa.columns\n",
    "df_africa[\"gdpPercap_1952\"]"
   ]
  },
  {
   "cell_type": "markdown",
   "metadata": {},
   "source": [
    "## Inspecting Data\n",
    "We've already see how we can get information about a dataframe using the `.info()` and `.describe()` functions, but there are many ways to get information and view a data frame"
   ]
  },
  {
   "cell_type": "markdown",
   "metadata": {},
   "source": [
    "* Can also use describe() on data frame selections (like a single column)"
   ]
  },
  {
   "cell_type": "code",
   "execution_count": null,
   "metadata": {
    "collapsed": true
   },
   "outputs": [],
   "source": [
    "# Use the .describe() function on the \"gdpPercap\" column\n",
    "df.africa"
   ]
  },
  {
   "cell_type": "markdown",
   "metadata": {},
   "source": [
    "* We can print the first or last x number of rows of our data frame using the head() and tails() functions."
   ]
  },
  {
   "cell_type": "code",
   "execution_count": null,
   "metadata": {
    "collapsed": true
   },
   "outputs": [],
   "source": [
    "# heads() function\n"
   ]
  },
  {
   "cell_type": "code",
   "execution_count": null,
   "metadata": {
    "collapsed": true
   },
   "outputs": [],
   "source": [
    "# tails() function\n"
   ]
  },
  {
   "cell_type": "markdown",
   "metadata": {},
   "source": [
    "* **Note:** head() and tail() default to 5 rows worth of data. We can also pass a value to either to get more or less rows.\n",
    "  * E.g.  \n",
    "  head(10)\n",
    "  \n",
    " ---\n",
    "  \n",
    "* Use `.dtypes` method to get the data type for each column"
   ]
  },
  {
   "cell_type": "code",
   "execution_count": null,
   "metadata": {
    "collapsed": true
   },
   "outputs": [],
   "source": [
    "# Write your code here\n"
   ]
  },
  {
   "cell_type": "markdown",
   "metadata": {},
   "source": [
    "* Use `shape` method to get the row and column numbers"
   ]
  },
  {
   "cell_type": "code",
   "execution_count": null,
   "metadata": {
    "collapsed": true
   },
   "outputs": [],
   "source": [
    "# Write your code here\n"
   ]
  },
  {
   "cell_type": "markdown",
   "metadata": {},
   "source": [
    "Here we can see the that the data have 52 rows of data and 18 attributes worth of information.\n",
    "\n",
    "* Use the `len()` function to get numbers of each individually"
   ]
  },
  {
   "cell_type": "code",
   "execution_count": null,
   "metadata": {
    "collapsed": true
   },
   "outputs": [],
   "source": [
    "# print number of rows of data\n"
   ]
  },
  {
   "cell_type": "code",
   "execution_count": null,
   "metadata": {
    "collapsed": true
   },
   "outputs": [],
   "source": [
    "# print number of columns of data\n"
   ]
  },
  {
   "cell_type": "markdown",
   "metadata": {},
   "source": [
    "* As seen before we can pass the data frame a column name to get all values for that column\n",
    "\n",
    "\n",
    "* Print out only the lifeExp2007 column from the data frame"
   ]
  },
  {
   "cell_type": "code",
   "execution_count": null,
   "metadata": {
    "collapsed": true
   },
   "outputs": [],
   "source": [
    "# Write your code here\n"
   ]
  },
  {
   "cell_type": "markdown",
   "metadata": {},
   "source": [
    "---\n",
    "## EXERCISE:\n",
    "1. How many different country names are there in the gapminder_all.csv file?\n",
    "\n",
    "---"
   ]
  },
  {
   "cell_type": "code",
   "execution_count": 23,
   "metadata": {},
   "outputs": [
    {
     "data": {
      "text/plain": [
       "(142, 16)"
      ]
     },
     "execution_count": 23,
     "metadata": {},
     "output_type": "execute_result"
    }
   ],
   "source": [
    "# Write your code here\n",
    "df = pd.read_csv(\"../data/gapminder_All.csv\", index_col=\"country\")\n",
    "df.shape"
   ]
  },
  {
   "cell_type": "markdown",
   "metadata": {},
   "source": [
    "---\n",
    "## EXERCISE:\n",
    "1. What is the last country listed in the Africa data frame?\n",
    "\n",
    "---"
   ]
  },
  {
   "cell_type": "code",
   "execution_count": null,
   "metadata": {
    "collapsed": true
   },
   "outputs": [],
   "source": [
    "# Write your code here\n"
   ]
  },
  {
   "cell_type": "markdown",
   "metadata": {},
   "source": [
    "---\n",
    "## Get information about a particular column\n",
    "\n",
    "* Operations like mean, max, min, can be used on individual columns\n",
    "  * E.g. `df['year'].min()`"
   ]
  },
  {
   "cell_type": "code",
   "execution_count": null,
   "metadata": {
    "collapsed": true
   },
   "outputs": [],
   "source": [
    "# What is the minimum value in the year column?\n"
   ]
  },
  {
   "cell_type": "markdown",
   "metadata": {},
   "source": [
    "---\n",
    "## EXERCISE:\n",
    "1. What is the mean life expectancy in 2007 for all countries in all years\n",
    "\n",
    "1. What is the max population in 2007 for all countries in all years\n",
    "\n",
    "1. What is the standard deviation for GDP per capita for all countries in all years\n"
   ]
  },
  {
   "cell_type": "code",
   "execution_count": null,
   "metadata": {
    "collapsed": true
   },
   "outputs": [],
   "source": [
    "df = pd.read_csv(\"./data/gapminder_all.csv\")\n",
    "# Mean Life Expectancy in 2007\n",
    "\n",
    "# Max Population in 2007\n",
    "\n",
    "# Standard Deviation of GDP per capita in 1952\n"
   ]
  },
  {
   "cell_type": "markdown",
   "metadata": {},
   "source": [
    "## Rearange Columns\n",
    "\n",
    "* This is difficult to do using a csv library or by hand\n",
    "* The reverse() function will reverse the ordering of a list\n",
    "     * E.g.   `['a', 'b', 'c']` to `['c', 'b', 'a']`"
   ]
  },
  {
   "cell_type": "code",
   "execution_count": null,
   "metadata": {
    "collapsed": true
   },
   "outputs": [],
   "source": [
    "# Use the python list() function to get the data frame columns a s list\n",
    "cols = list(df.columns)\n",
    "print( cols )\n",
    "\n",
    "# use the .reverse() function to reverse the ordering of the columns\n",
    "\n",
    "print ( cols )"
   ]
  },
  {
   "cell_type": "markdown",
   "metadata": {},
   "source": [
    "* Using that now reversed list above, we can pass the list to the new data frame to reorder the columns"
   ]
  },
  {
   "cell_type": "code",
   "execution_count": null,
   "metadata": {
    "collapsed": true
   },
   "outputs": [],
   "source": [
    "# Pass the cols variable to the data frame to re-arrange the columns\n"
   ]
  },
  {
   "cell_type": "markdown",
   "metadata": {},
   "source": [
    "## Transposing tables\n",
    "\n",
    "In many cases we may need to transpose the column and rows in a table.  Pandas allows us to to this easily with the `T` command.\n"
   ]
  },
  {
   "cell_type": "code",
   "execution_count": null,
   "metadata": {
    "collapsed": true,
    "scrolled": true
   },
   "outputs": [],
   "source": [
    "# Print first three rows of the data frame\n",
    "\n",
    "# Transpose the dataframe and print the first three rows\n"
   ]
  },
  {
   "cell_type": "markdown",
   "metadata": {},
   "source": [
    "---\n",
    "## EXERCISE:\n",
    "1. Read in a new data frame for the gapminder_Americas.csv file\n",
    "2. Print the last last three columns of the data frame"
   ]
  },
  {
   "cell_type": "code",
   "execution_count": null,
   "metadata": {
    "collapsed": true
   },
   "outputs": [],
   "source": []
  },
  {
   "cell_type": "markdown",
   "metadata": {},
   "source": [
    "---\n",
    "## Selecting values\n",
    "\n",
    "Data Frames provides a index as a way to identify the rows of the table. A row also has a position inside the table as well as a label, which uniquely identifies its entry in the DataFrame.\n",
    "\n",
    "To access a value at the position [ i , j ] (row, column) of a Data Frame, we have two options, depending on what is the meaning of i in use."
   ]
  },
  {
   "cell_type": "markdown",
   "metadata": {},
   "source": [
    "### Use DataFrame.iloc[..., ...] to select values by their position\n",
    "* Allows you to specify location by numerical index similar to 2D version of character selection in strings.\n"
   ]
  },
  {
   "cell_type": "code",
   "execution_count": null,
   "metadata": {
    "collapsed": true
   },
   "outputs": [],
   "source": [
    "print(\"\\nData value in first row at first column: \", df.iloc[0, 0])"
   ]
  },
  {
   "cell_type": "code",
   "execution_count": null,
   "metadata": {
    "collapsed": true
   },
   "outputs": [],
   "source": [
    "print(\"\\nData value in fifth row at third column: \", df.iloc[4, 2])"
   ]
  },
  {
   "cell_type": "markdown",
   "metadata": {},
   "source": [
    "### Use `DataFrame.loc[..., ...]` to select values by their (index) label.\n",
    "\n",
    "*   Can specify location by name or by numerical index."
   ]
  },
  {
   "cell_type": "code",
   "execution_count": null,
   "metadata": {
    "collapsed": true
   },
   "outputs": [],
   "source": [
    "# Print the value of Albanias GDP per capita in 1952 using .loc\n"
   ]
  },
  {
   "cell_type": "code",
   "execution_count": null,
   "metadata": {
    "collapsed": true
   },
   "outputs": [],
   "source": [
    "# Print the value of Bulgarias GDP per capita in 1962 using .loc\n"
   ]
  },
  {
   "cell_type": "markdown",
   "metadata": {},
   "source": [
    "---\n",
    "## EXERCISE\n",
    "~~~\n",
    "import pandas\n",
    "df = pandas.read_csv('data/gapminder_Europe.csv', index_col='country')\n",
    "~~~\n",
    "\n",
    "1. Find the Per Capita GDP for Serbia in 2007.\n",
    "1. Find the Per Capita GDPs for Germany in 1982"
   ]
  },
  {
   "cell_type": "code",
   "execution_count": null,
   "metadata": {
    "collapsed": true
   },
   "outputs": [],
   "source": [
    "# Write your code here\n"
   ]
  },
  {
   "cell_type": "markdown",
   "metadata": {},
   "source": [
    "---\n",
    "## Slicing Data Frames\n",
    "\n",
    "### Use `:` on its own to mean all columns or all rows.\n",
    "\n",
    "*   Just like Python's usual slicing notation, we can print all columns or all rows with `.loc` using the `:`"
   ]
  },
  {
   "cell_type": "code",
   "execution_count": null,
   "metadata": {
    "collapsed": true
   },
   "outputs": [],
   "source": [
    "# Print all of the row values for all years for Egypt\n"
   ]
  },
  {
   "cell_type": "markdown",
   "metadata": {},
   "source": [
    "* Would get the same result printing `df.iloc[0]` (without a second index).\n",
    "* We can also omit the `:` and get all rows.\n",
    "    * e.g. `df.loc[\"Albania\"]`"
   ]
  },
  {
   "cell_type": "code",
   "execution_count": null,
   "metadata": {
    "collapsed": true
   },
   "outputs": [],
   "source": [
    "# Print the GDP per capita for all countries in 1952\n"
   ]
  },
  {
   "cell_type": "markdown",
   "metadata": {},
   "source": [
    "*   Would get the same result printing `df[\"gdpPercap_1952\"]`\n",
    "*   Also get the same result printing `df.gdpPercap_1952` (since it's a column name)"
   ]
  },
  {
   "cell_type": "markdown",
   "metadata": {},
   "source": [
    "---\n",
    "## EXERCISE:\n",
    "1. Print out GDP per capita for all countries in asia in 1972\n",
    "\n"
   ]
  },
  {
   "cell_type": "code",
   "execution_count": null,
   "metadata": {
    "collapsed": true
   },
   "outputs": [],
   "source": [
    "# Write your code here\n"
   ]
  },
  {
   "cell_type": "markdown",
   "metadata": {},
   "source": [
    "---\n",
    "### We can also use the `:` to select whole sections of a table \n",
    "* Similar to the way we would select a section of from a normal python list, we can do the same with data frames."
   ]
  },
  {
   "cell_type": "code",
   "execution_count": null,
   "metadata": {
    "collapsed": true
   },
   "outputs": [],
   "source": [
    "# Print a selection of all countries in the table from Italy to Poland from years 1962 to 1972\n"
   ]
  },
  {
   "cell_type": "markdown",
   "metadata": {},
   "source": [
    "Note that in Pandas **slicing using indexes is inclusive at both ends**, which differs from typical python behavior where slicing indicates everything up to but not including the final index."
   ]
  },
  {
   "cell_type": "markdown",
   "metadata": {},
   "source": [
    "### Select multiple columns or rows using `DataFrame.iloc` and a named slice.\n",
    "* We can also make selection from a data frame using the index location of the row or column\n",
    "    * Remember that in programming languages, we start counting at 0"
   ]
  },
  {
   "cell_type": "code",
   "execution_count": null,
   "metadata": {
    "collapsed": true
   },
   "outputs": [],
   "source": [
    "#Print the first row of the data frame using the .head() function\n",
    "print(\"First row of data frame:\\n\",  )\n",
    "\n",
    "# Use iloc to print the value in the first row of the first column\n",
    "print(\"\\n\\nValue in the first row of the first column:\\n\",  )\n",
    "\n",
    "# Use iloc to print the values of the first two columns in the first row\n",
    "print(\"Values in the first two columes in the first row:\\n\",  )"
   ]
  },
  {
   "cell_type": "markdown",
   "metadata": {},
   "source": [
    "* **Note that unlike slicing using column or row names, slicing using indexes is not inclusive** "
   ]
  },
  {
   "cell_type": "markdown",
   "metadata": {},
   "source": [
    "---\n",
    "## EXERCISE:\n",
    "1. Print out all values from Hungary through Montenegro (Europe data) for the years 1977 through 1997"
   ]
  },
  {
   "cell_type": "code",
   "execution_count": null,
   "metadata": {
    "collapsed": true
   },
   "outputs": [],
   "source": [
    "# Write code here\n"
   ]
  },
  {
   "cell_type": "markdown",
   "metadata": {},
   "source": [
    "---\n",
    "## EXERCISE:\n",
    "1.  Do the two statements below produce the same output?\n",
    "    ~~~\n",
    "    print(df.iloc[0:2, 0:2])\n",
    "    print(df.loc['Albania':'Belgium', 'gdpPercap_1952':'gdpPercap_1962'])\n",
    "    ~~~\n",
    "\n",
    "1.  Based on this,what rule governs what is included (or not) in numerical slices and named slices in Pandas?\n"
   ]
  },
  {
   "cell_type": "code",
   "execution_count": null,
   "metadata": {
    "collapsed": true
   },
   "outputs": [],
   "source": []
  },
  {
   "cell_type": "markdown",
   "metadata": {},
   "source": [
    "---\n",
    "### Slicing individual rows and columns\n",
    "* Instead of creating slices of *this* to *that* using the `:`, we can also slice using individual rows and columns by placing names or indexes in brackets `[]`."
   ]
  },
  {
   "cell_type": "code",
   "execution_count": null,
   "metadata": {
    "collapsed": true
   },
   "outputs": [],
   "source": [
    "# Print out the GDP per capita of only Italy, Austria, and the United Kingdom in the years 2007 and 1957\n"
   ]
  },
  {
   "cell_type": "markdown",
   "metadata": {},
   "source": [
    "---\n",
    "## EXERCISE:\n",
    "1. Using the index locations, `print` out the first, third, and eight columns for the sixteenth through nineteenth rows."
   ]
  },
  {
   "cell_type": "code",
   "execution_count": null,
   "metadata": {
    "collapsed": true
   },
   "outputs": [],
   "source": []
  },
  {
   "cell_type": "markdown",
   "metadata": {},
   "source": [
    "---\n",
    "## Result of slicing can be used in further operations."
   ]
  },
  {
   "cell_type": "code",
   "execution_count": null,
   "metadata": {
    "collapsed": true
   },
   "outputs": [],
   "source": [
    "# Print out the max value (.max()) of ALL countries from Italy to Poland for 1962 to 1972\n"
   ]
  },
  {
   "cell_type": "code",
   "execution_count": null,
   "metadata": {
    "collapsed": true
   },
   "outputs": [],
   "source": [
    "# Print out the min value (.min()) of ALL countries from Italy to Poland for 1962 to 1972\n"
   ]
  },
  {
   "cell_type": "markdown",
   "metadata": {},
   "source": [
    "*   Usually don't just print a slice.\n",
    "*   All the statistical operators that work on entire data frames work the same way on slices."
   ]
  },
  {
   "cell_type": "markdown",
   "metadata": {},
   "source": [
    "## Create data frame from selections\n",
    "\n",
    "* We can create new data frame by selecting data frames based on values and assigining it to a variable"
   ]
  },
  {
   "cell_type": "code",
   "execution_count": null,
   "metadata": {
    "collapsed": true
   },
   "outputs": [],
   "source": [
    "# Create a selection of ALL countries from Italy to Poland for 1962 to 1972 and \n",
    "#  assign the selection to a variable name \"subset_df\"\n",
    "\n",
    "print('Subset of data:\\n', subset_df)"
   ]
  },
  {
   "cell_type": "markdown",
   "metadata": {},
   "source": [
    "## Create DataFrame using query\n",
    "* We can query values in a data frame to create new selections\n",
    "* By passing a dataframe query to itself, we can create a new dataframe with only those values"
   ]
  },
  {
   "cell_type": "code",
   "execution_count": null,
   "metadata": {
    "collapsed": true
   },
   "outputs": [],
   "source": [
    "# Create a query for the \"gdpPerCap_1962\" series in out subset_df data frame for all values greater than 10000\n",
    "\n",
    "# Create a new data frame called subset_10k_df by passing that query to the subset_df data frame\n",
    "\n",
    "\n",
    "print(query_10k)\n",
    "print(subset_10k_df)\n",
    "print(subset_10k_df.shape)"
   ]
  },
  {
   "cell_type": "markdown",
   "metadata": {},
   "source": [
    "---\n",
    "## EXERCISE:\n",
    "\n",
    "* Create three data frames and get the size of each one.\n",
    "    1. Countries with a gdp per capita in 1952 above 10000\n",
    "    1. Countries with a gdp per capita in 1962 above 10000\n",
    "    1. Countries with a gdp per capita in 1972 above 10000\n",
    "\n",
    "---"
   ]
  },
  {
   "cell_type": "code",
   "execution_count": null,
   "metadata": {
    "collapsed": true
   },
   "outputs": [],
   "source": []
  },
  {
   "cell_type": "markdown",
   "metadata": {},
   "source": [
    "## Filter a DataFrame using a Boolean mask\n",
    "\n",
    "* A frame full of Booleans is sometimes called a *mask* because of how it can be used\n",
    "* Comparison is applied element by element\n",
    "* Returns a similarly-shaped data frame of `True` and `False`"
   ]
  },
  {
   "cell_type": "code",
   "execution_count": null,
   "metadata": {
    "collapsed": true,
    "scrolled": true
   },
   "outputs": [],
   "source": [
    "# Create a full data frame mask for subset_df with a query for all values in all years greater than 10000\n",
    "mask_10k = \n",
    "\n",
    "print( mask_10k )"
   ]
  },
  {
   "cell_type": "markdown",
   "metadata": {},
   "source": [
    "* We can use masks to filter an entire dataframe with a single query\n",
    "    * More efficient than using a single query on multiple columns"
   ]
  },
  {
   "cell_type": "code",
   "execution_count": null,
   "metadata": {
    "collapsed": true
   },
   "outputs": [],
   "source": [
    "# Pass the mask query to subset_df to create a new data frame mask_subset\n",
    "mask_subset = \n",
    "\n",
    "print(mask_subset)\n",
    "print(\"Shape: \", mask_subset.shape)"
   ]
  },
  {
   "cell_type": "markdown",
   "metadata": {},
   "source": [
    "*   Returns the value where the mask is true, and NaN (Not a Number) where it is false.\n",
    "*   Useful because NaNs are ignored by operations like max, min, average, etc.\n",
    "\n",
    "\n",
    "* If we wanted to remove all rows with a NaN value in any column we could use the `.dropna()` function"
   ]
  },
  {
   "cell_type": "code",
   "execution_count": null,
   "metadata": {
    "collapsed": true
   },
   "outputs": [],
   "source": [
    "# Print the mask_subset data frame with all rows with a single NaN value removed\n",
    "\n",
    "\n",
    "# Print the shape of the mask_subset data frame with all rows with an NaN values removed\n"
   ]
  },
  {
   "cell_type": "markdown",
   "metadata": {},
   "source": [
    "## Create new columns\n",
    "\n",
    "* We can easily create new columns in the same way we would add a key and value to a dictionary"
   ]
  },
  {
   "cell_type": "code",
   "execution_count": null,
   "metadata": {
    "collapsed": true
   },
   "outputs": [],
   "source": [
    "# Create a new column in data frame called diff_07_52 that is the difference between gdp per capita from 1952 to 2007\n",
    "\n",
    "\n",
    "print(df.head(1))"
   ]
  },
  {
   "cell_type": "markdown",
   "metadata": {},
   "source": [
    "---\n",
    "## EtherPad\n",
    "\n",
    "On EtherPad explain what the follow expression does:\n",
    "\n",
    "    only_Am = df[df['continent'] == 'Americas']\n",
    "\n",
    "___"
   ]
  },
  {
   "cell_type": "markdown",
   "metadata": {},
   "source": [
    "## EXERCISE:\n",
    "1. Explain in simple terms what `idxmin` and `idxmax` do in the short program below.\n",
    "    ~~~\n",
    "    df = pd.read_csv('data/gapminder_gdp_europe.csv', index_col='country')\n",
    "    print(df.idxmin())\n",
    "    print(df.idymax())\n",
    "    ~~~\n",
    "\n",
    "2. When would you use these methods?"
   ]
  },
  {
   "cell_type": "code",
   "execution_count": null,
   "metadata": {
    "collapsed": true
   },
   "outputs": [],
   "source": []
  },
  {
   "cell_type": "markdown",
   "metadata": {},
   "source": [
    "---\n",
    "## PRACTICE EXERCISE.\n",
    "Using the Gapminder GDP data for Europe, write an expression to select each of the following:\n",
    "1.  GDP per capita for all countries in 1982.\n",
    "1.  GDP per capita for Denmark for all years.\n",
    "1.  GDP per capita for all countries for years *after* 1985.\n",
    "1.  GDP per capita for each country in 2007 as a multiple of GDP per capita for that country in 1952.\n",
    "---"
   ]
  },
  {
   "cell_type": "markdown",
   "metadata": {},
   "source": [
    "# -- COMMIT YOUR WORK TO GITHUB --"
   ]
  },
  {
   "cell_type": "markdown",
   "metadata": {},
   "source": [
    "---\n",
    "## Keypoints:\n",
    " - \"Use `DataFrame.iloc[..., ...]` to select values by index location.\"\n",
    " - \"Use `:` on its own to mean all columns or all rows.\"\n",
    " - \"Select multiple columns or rows using `DataFrame.ix` and a named slice.\"\n",
    " - \"Result of slicing can be used in further operations.\"\n",
    " - \"Use comparisons to select data based on value.\"\n",
    " - \"Select values or NaN using a Boolean mask.\""
   ]
  }
 ],
 "metadata": {
  "anaconda-cloud": {},
  "kernelspec": {
   "display_name": "Python 3",
   "language": "python",
   "name": "python3"
  },
  "language_info": {
   "codemirror_mode": {
    "name": "ipython",
    "version": 3
   },
   "file_extension": ".py",
   "mimetype": "text/x-python",
   "name": "python",
   "nbconvert_exporter": "python",
   "pygments_lexer": "ipython3",
   "version": "3.6.3"
  }
 },
 "nbformat": 4,
 "nbformat_minor": 2
}
